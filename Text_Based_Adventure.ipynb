{
  "nbformat": 4,
  "nbformat_minor": 0,
  "metadata": {
    "colab": {
      "provenance": [],
      "include_colab_link": true
    },
    "kernelspec": {
      "name": "python3",
      "display_name": "Python 3"
    },
    "language_info": {
      "name": "python"
    }
  },
  "cells": [
    {
      "cell_type": "markdown",
      "metadata": {
        "id": "view-in-github",
        "colab_type": "text"
      },
      "source": [
        "<a href=\"https://colab.research.google.com/github/YSHS-APCSP-2526/text-based-adventure-219682-spec/blob/main/Text_Based_Adventure.ipynb\" target=\"_parent\"><img src=\"https://colab.research.google.com/assets/colab-badge.svg\" alt=\"Open In Colab\"/></a>"
      ]
    },
    {
      "cell_type": "markdown",
      "source": [
        "#Requirements for text based adventure\n",
        "1. You must have at least 2 different \"paths\" that are at least 4 decisions in length\n",
        "2. Include an element of randomness (from the random library)\n",
        "3. Include a list that is core to the text based adventure\n",
        "4. Include a function that is called within your program that includes a while loop, and a parameter that influences a conditional statement in your function.\n",
        "5. Commented Code.\n",
        "6. A [digital flowchart](https://docs.google.com/document/d/1p2k3wL6gzjYWBuWxwEQptmbbOZZNsQrthlC12SNtYgY/edit?usp=sharing) that follows accepted symbols for representing code. You can use google slides or [draw.io](https://www.drawio.com/) for the flowchart."
      ],
      "metadata": {
        "id": "zpSmche7G_jy"
      }
    },
    {
      "cell_type": "code",
      "source": [
        "!pip install pyfiglet"
      ],
      "metadata": {
        "colab": {
          "base_uri": "https://localhost:8080/"
        },
        "id": "Ad-4cKobueoU",
        "outputId": "9ab67140-fbc4-45e3-fe54-1e39c00ea139"
      },
      "execution_count": 173,
      "outputs": [
        {
          "output_type": "stream",
          "name": "stdout",
          "text": [
            "Requirement already satisfied: pyfiglet in /usr/local/lib/python3.12/dist-packages (1.0.4)\n"
          ]
        }
      ]
    },
    {
      "cell_type": "code",
      "source": [
        "\n",
        "from pyfiglet import Figlet\n",
        "\n",
        "f = Figlet(font='slant')\n"
      ],
      "metadata": {
        "id": "8qUdlSMeuggT"
      },
      "execution_count": 194,
      "outputs": []
    },
    {
      "cell_type": "code",
      "source": [
        "def responseValidator(response):\n",
        "  while response !=\"yes\" and response !=\"no\":\n",
        "    response = input(\"Invalid Response: please type yes or no:       \")"
      ],
      "metadata": {
        "id": "tA41Xa9_HKB1"
      },
      "execution_count": 238,
      "outputs": []
    },
    {
      "cell_type": "code",
      "source": [
        "def intro():\n",
        "  # Get the user's initial decision\n",
        "  response = input(\"You wake up in the middle of a dark, snowy forest. Ahead, you see a faint yellow light. Should you head toward it? (yes/no): \")"
      ],
      "metadata": {
        "id": "DToswc3clKpf"
      },
      "execution_count": 239,
      "outputs": []
    },
    {
      "cell_type": "code",
      "source": [
        "def choices1():\n",
        "  # This function will handle the path when the user chooses 'yes'\n",
        "  response = input(\"You've found a small cabin in the middle of the forest. Should you go inside or explore the outside? (inside/outside): \")"
      ],
      "metadata": {
        "id": "w1QajoLYLGrE"
      },
      "execution_count": 240,
      "outputs": []
    },
    {
      "cell_type": "code",
      "source": [
        "def choices2():\n",
        "  # This function will handle the path when the user chooses 'no'\n",
        "  print(\"You walked through the dark forest until you fell from cold and hunger. You heard a strange sound, and when you opened your eyes, you saw the same place where you woke up. This time, you decided to go towards the yellow light.\")\n",
        "  return choices1()"
      ],
      "metadata": {
        "id": "qAu4lmxKf2Xj"
      },
      "execution_count": 241,
      "outputs": []
    },
    {
      "cell_type": "code",
      "source": [
        "def main():\n",
        "  print(f.renderText('Chapter 1  :  The Forest'))\n",
        "  intro()\n",
        "  choices1()\n",
        "  choices2()\n"
      ],
      "metadata": {
        "id": "LQuG-KfJlMj3"
      },
      "execution_count": 242,
      "outputs": []
    },
    {
      "cell_type": "code",
      "source": [
        "main()"
      ],
      "metadata": {
        "id": "97l35rYKI2SZ",
        "colab": {
          "base_uri": "https://localhost:8080/"
        },
        "outputId": "bc644317-0b74-4863-bc69-8aae0977c4f9"
      },
      "execution_count": null,
      "outputs": [
        {
          "name": "stdout",
          "output_type": "stream",
          "text": [
            "   ________                __               ___            ________       \n",
            "  / ____/ /_  ____ _____  / /____  _____   <  /    _      /_  __/ /_  ___ \n",
            " / /   / __ \\/ __ `/ __ \\/ __/ _ \\/ ___/   / /    (_)      / / / __ \\/ _ \\\n",
            "/ /___/ / / / /_/ / /_/ / /_/  __/ /      / /    _        / / / / / /  __/\n",
            "\\____/_/ /_/\\__,_/ .___/\\__/\\___/_/      /_/    (_)      /_/ /_/ /_/\\___/ \n",
            "                /_/                                                       \n",
            "    ______                     __ \n",
            "   / ____/___  ________  _____/ /_\n",
            "  / /_  / __ \\/ ___/ _ \\/ ___/ __/\n",
            " / __/ / /_/ / /  /  __(__  ) /_  \n",
            "/_/    \\____/_/   \\___/____/\\__/  \n",
            "                                  \n",
            "\n",
            "You wake up in the middle of a dark, snowy forest. Ahead, you see a faint yellow light. Should you head toward it? (yes/no): yed\n"
          ]
        }
      ]
    }
  ]
}